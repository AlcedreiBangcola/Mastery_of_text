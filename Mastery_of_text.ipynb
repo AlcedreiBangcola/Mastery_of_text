{
 "cells": [
  {
   "cell_type": "code",
   "execution_count": 1,
   "id": "201525de",
   "metadata": {},
   "outputs": [],
   "source": [
    "import requests\n",
    "import re\n",
    "from collections import Counter\n",
    "url = \"https://www.gutenberg.org/cache/epub/10/pg10.txt\"\n",
    "pg10 = requests.get(url, stream=True).content.decode(\"utf-8\", errors=\"ignore\")"
   ]
  },
  {
   "cell_type": "code",
   "execution_count": 2,
   "id": "3dee6af1",
   "metadata": {},
   "outputs": [],
   "source": [
    "number_lines = len(pg10.splitlines())"
   ]
  },
  {
   "cell_type": "code",
   "execution_count": 3,
   "id": "415ecd63",
   "metadata": {},
   "outputs": [],
   "source": [
    "words = re.findall(r\"[A-Za-z]+\", pg10)\n",
    "num_words = len(words)"
   ]
  },
  {
   "cell_type": "code",
   "execution_count": 4,
   "id": "e22d7d3b",
   "metadata": {},
   "outputs": [],
   "source": [
    "lowercase_pg = pg10.lower()\n",
    "lowercase_words = re.findall(r\"[a-z]+\", lowercase_pg)\n",
    "apostle_count = lowercase_words.count(\"apostle\")"
   ]
  },
  {
   "cell_type": "code",
   "execution_count": 5,
   "id": "32bddcd5",
   "metadata": {},
   "outputs": [],
   "source": [
    "word_count = Counter(lowercase_words)\n",
    "most_common_word, most_common_count = word_count.most_common(1)[0]"
   ]
  },
  {
   "cell_type": "code",
   "execution_count": 6,
   "id": "06eb30f7",
   "metadata": {},
   "outputs": [
    {
     "name": "stdout",
     "output_type": "stream",
     "text": [
      "Number of lines: 99968\n",
      "Number of words: 795227\n",
      "Number of  'apostle': 47\n",
      "Most common word: the, 64309 times )\n"
     ]
    }
   ],
   "source": [
    "print(\"Number of lines:\", number_lines)\n",
    "print(\"Number of words:\", num_words)\n",
    "print(\"Number of  'apostle':\", apostle_count)\n",
    "print(f\"Most common word: {most_common_word}, {most_common_count} times )\")\n"
   ]
  }
 ],
 "metadata": {
  "kernelspec": {
   "display_name": "base",
   "language": "python",
   "name": "python3"
  },
  "language_info": {
   "codemirror_mode": {
    "name": "ipython",
    "version": 3
   },
   "file_extension": ".py",
   "mimetype": "text/x-python",
   "name": "python",
   "nbconvert_exporter": "python",
   "pygments_lexer": "ipython3",
   "version": "3.13.5"
  }
 },
 "nbformat": 4,
 "nbformat_minor": 5
}
